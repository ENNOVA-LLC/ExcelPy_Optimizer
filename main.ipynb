{
 "cells": [
  {
   "cell_type": "markdown",
   "metadata": {},
   "source": [
    "# `Excel_Solver` demo\n",
    "\n",
    "Jupyter notebook to use `Excel_Solver` class to link Excel to the `scipy.optimize` package. \n",
    "\n",
    "The `Excel_Solver` class implements the minimization algorithms from the `scipy.optimize` package and provides an Excel interface for building the `solver` instance of the `Excel_Solver` class.\n",
    "\n",
    "The main methods of the `Excel_Solver` class are:\n",
    "+ `optimize()`: runs the optimization algorithm.\n",
    "+ `print_solutions()`: prints the solutions to an Excel sheet."
   ]
  },
  {
   "cell_type": "code",
   "execution_count": 1,
   "metadata": {},
   "outputs": [],
   "source": [
    "# import packages\n",
    "from pathlib import Path\n",
    "from excelpy_optimizer import Excel_Solver\n",
    "\n",
    "# set paths\n",
    "THIS_DIR = Path(r'C:\\Users\\cjsis\\Documents\\Github\\research\\ExcelPy_Optimizer')\n",
    "DATA_DIR = THIS_DIR / 'data'"
   ]
  },
  {
   "cell_type": "markdown",
   "metadata": {},
   "source": [
    "## Create instance of `Excel_Solver` class\n",
    "\n",
    "This sets the following attributes:\n",
    "+ `xw`: link to the Excel `book`, `sheet`, and `ranges` using xlwings.\n",
    "+ `x_param`: active tuning parameters.\n",
    "+ `algo_param`: algorithm method and hyperparameters."
   ]
  },
  {
   "cell_type": "code",
   "execution_count": 3,
   "metadata": {},
   "outputs": [],
   "source": [
    "# create instance of solver\n",
    "book = THIS_DIR / \"optimizer_demo.xlsx\"\n",
    "solver = Excel_Solver(\n",
    "    book=book, sheet_name=\"project\", \n",
    "    param_rg_name=\"pySolve_Param\", algo_rg_name=\"pySolve_Algo\"\n",
    ")"
   ]
  },
  {
   "cell_type": "code",
   "execution_count": 4,
   "metadata": {},
   "outputs": [
    {
     "name": "stdout",
     "output_type": "stream",
     "text": [
      "book=optimizer_demo.xlsx\n",
      "x=['x1', 'x2']\n",
      "method=differential_evolution\n"
     ]
    }
   ],
   "source": [
    "# print attributes of solver instance\n",
    "print(f\"book={solver.xw.book.name}\")\n",
    "print(f\"x={solver.x_param['param']}\")\n",
    "print(f\"method={solver.algo_param['method']}\")"
   ]
  },
  {
   "cell_type": "markdown",
   "metadata": {},
   "source": [
    "## Run `Excel_Solver.optimize()` method\n",
    "\n",
    "Solves optimization problem according to `x_param` and `algo_param` attributes."
   ]
  },
  {
   "cell_type": "code",
   "execution_count": 5,
   "metadata": {},
   "outputs": [],
   "source": [
    "# modify algorithm parameters\n",
    "algo_method = None #[None, 'basinhopping', 'differential_evolution', 'shgo', 'dual_annealing', 'direct']\n",
    "if algo_method:\n",
    "    opt_params = solver.get_algo_params(method=algo_method)\n",
    "    opt_params['bounds'] = solver.algo_param['param']['bounds']\n",
    "    solver.set_algo_params(method=algo_method, param=opt_params)"
   ]
  },
  {
   "cell_type": "code",
   "execution_count": 6,
   "metadata": {},
   "outputs": [
    {
     "name": "stdout",
     "output_type": "stream",
     "text": [
      "             message: Optimization terminated successfully.\n",
      "             success: True\n",
      "                 fun: 4.979684464207637e-30\n",
      "                   x: [ 1.000e+00  1.000e+00]\n",
      "                 nit: 76\n",
      "                nfev: 2313\n",
      "          population: [[ 1.000e+00  1.000e+00]\n",
      "                       [ 1.000e+00  1.000e+00]\n",
      "                       ...\n",
      "                       [ 1.000e+00  1.000e+00]\n",
      "                       [ 1.000e+00  1.000e+00]]\n",
      " population_energies: [ 4.980e-30  4.980e-30 ...  4.980e-30  4.980e-30]\n"
     ]
    }
   ],
   "source": [
    "# use `optimize` method to solve\n",
    "result = solver.optimize()\n",
    "print(result)"
   ]
  },
  {
   "cell_type": "markdown",
   "metadata": {},
   "source": [
    "## Print results from optimization"
   ]
  },
  {
   "cell_type": "code",
   "execution_count": 7,
   "metadata": {},
   "outputs": [
    {
     "ename": "Exception",
     "evalue": "All elements of a 2d list or tuple must be of the same length",
     "output_type": "error",
     "traceback": [
      "\u001b[31m---------------------------------------------------------------------------\u001b[39m",
      "\u001b[31mException\u001b[39m                                 Traceback (most recent call last)",
      "\u001b[36mCell\u001b[39m\u001b[36m \u001b[39m\u001b[32mIn[7]\u001b[39m\u001b[32m, line 2\u001b[39m\n\u001b[32m      1\u001b[39m \u001b[38;5;66;03m# print candidate solutions to sheet\u001b[39;00m\n\u001b[32m----> \u001b[39m\u001b[32m2\u001b[39m \u001b[43msolver\u001b[49m\u001b[43m.\u001b[49m\u001b[43mprint_solutions\u001b[49m\u001b[43m(\u001b[49m\u001b[43m)\u001b[49m\n",
      "\u001b[36mFile \u001b[39m\u001b[32m~\\Documents\\Github\\research\\ExcelPy_Optimizer\\src\\excelpy_optimizer\\optimizer.py:906\u001b[39m, in \u001b[36mExcel_Solver.print_solutions\u001b[39m\u001b[34m(self, sheet_name, **kwargs)\u001b[39m\n\u001b[32m    903\u001b[39m calc_backup = \u001b[38;5;28mself\u001b[39m.xw.app.calculation\n\u001b[32m    904\u001b[39m \u001b[38;5;28mself\u001b[39m.xw.app.calculation = \u001b[33m'\u001b[39m\u001b[33mmanual\u001b[39m\u001b[33m'\u001b[39m  \u001b[38;5;66;03m# Set calculation mode to manual to prevent Excel from recalculating during data writing\u001b[39;00m\n\u001b[32m--> \u001b[39m\u001b[32m906\u001b[39m \u001b[43msheet\u001b[49m\u001b[43m.\u001b[49m\u001b[43mrange\u001b[49m\u001b[43m(\u001b[49m\u001b[33;43m\"\u001b[39;49m\u001b[33;43mA1\u001b[39;49m\u001b[33;43m\"\u001b[39;49m\u001b[43m)\u001b[49m\u001b[43m.\u001b[49m\u001b[43mvalue\u001b[49m = data\n\u001b[32m    908\u001b[39m \u001b[38;5;28mself\u001b[39m.xw.app.screen_updating = \u001b[38;5;28;01mTrue\u001b[39;00m\n\u001b[32m    909\u001b[39m \u001b[38;5;28mself\u001b[39m.xw.app.calculation = calc_backup\n",
      "\u001b[36mFile \u001b[39m\u001b[32mc:\\Users\\cjsis\\anaconda3\\envs\\excelOpt_env\\Lib\\site-packages\\xlwings\\main.py:2482\u001b[39m, in \u001b[36mRange.value\u001b[39m\u001b[34m(self, data)\u001b[39m\n\u001b[32m   2480\u001b[39m \u001b[38;5;129m@value\u001b[39m.setter\n\u001b[32m   2481\u001b[39m \u001b[38;5;28;01mdef\u001b[39;00m\u001b[38;5;250m \u001b[39m\u001b[34mvalue\u001b[39m(\u001b[38;5;28mself\u001b[39m, data):\n\u001b[32m-> \u001b[39m\u001b[32m2482\u001b[39m     \u001b[43mconversion\u001b[49m\u001b[43m.\u001b[49m\u001b[43mwrite\u001b[49m\u001b[43m(\u001b[49m\u001b[43mdata\u001b[49m\u001b[43m,\u001b[49m\u001b[43m \u001b[49m\u001b[38;5;28;43mself\u001b[39;49m\u001b[43m,\u001b[49m\u001b[43m \u001b[49m\u001b[38;5;28;43mself\u001b[39;49m\u001b[43m.\u001b[49m\u001b[43m_options\u001b[49m\u001b[43m)\u001b[49m\n",
      "\u001b[36mFile \u001b[39m\u001b[32mc:\\Users\\cjsis\\anaconda3\\envs\\excelOpt_env\\Lib\\site-packages\\xlwings\\conversion\\__init__.py:102\u001b[39m, in \u001b[36mwrite\u001b[39m\u001b[34m(value, rng, options, engine_name)\u001b[39m\n\u001b[32m    100\u001b[39m     \u001b[38;5;28;01mfor\u001b[39;00m row \u001b[38;5;129;01min\u001b[39;00m value:\n\u001b[32m    101\u001b[39m         \u001b[38;5;28;01mif\u001b[39;00m \u001b[38;5;28mlen\u001b[39m(first_row) != \u001b[38;5;28mlen\u001b[39m(row):\n\u001b[32m--> \u001b[39m\u001b[32m102\u001b[39m             \u001b[38;5;28;01mraise\u001b[39;00m \u001b[38;5;167;01mException\u001b[39;00m(\n\u001b[32m    103\u001b[39m                 \u001b[33m\"\u001b[39m\u001b[33mAll elements of a 2d list or tuple must be of the same length\u001b[39m\u001b[33m\"\u001b[39m\n\u001b[32m    104\u001b[39m             )\n\u001b[32m    105\u001b[39m convert = options.get(\u001b[33m\"\u001b[39m\u001b[33mconvert\u001b[39m\u001b[33m\"\u001b[39m, \u001b[38;5;28;01mNone\u001b[39;00m)\n\u001b[32m    106\u001b[39m pipeline = (\n\u001b[32m    107\u001b[39m     accessors.get(convert, convert).router(value, rng, options).writer(options)\n\u001b[32m    108\u001b[39m )\n",
      "\u001b[31mException\u001b[39m: All elements of a 2d list or tuple must be of the same length"
     ]
    }
   ],
   "source": [
    "# print candidate solutions to sheet\n",
    "solver.print_solutions()"
   ]
  },
  {
   "cell_type": "code",
   "execution_count": null,
   "metadata": {},
   "outputs": [],
   "source": [
    "# write candidate solutions to sheet and evaluate results\n",
    "solver.write_solution_to_solver_range(idx=5)"
   ]
  }
 ],
 "metadata": {
  "kernelspec": {
   "display_name": "excelOpt_env",
   "language": "python",
   "name": "python3"
  },
  "language_info": {
   "codemirror_mode": {
    "name": "ipython",
    "version": 3
   },
   "file_extension": ".py",
   "mimetype": "text/x-python",
   "name": "python",
   "nbconvert_exporter": "python",
   "pygments_lexer": "ipython3",
   "version": "3.11.13"
  }
 },
 "nbformat": 4,
 "nbformat_minor": 2
}
