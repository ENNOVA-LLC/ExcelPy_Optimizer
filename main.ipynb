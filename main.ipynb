{
 "cells": [
  {
   "cell_type": "markdown",
   "metadata": {},
   "source": [
    "# `Excel_Solver` demo\n",
    "\n",
    "Jupyter notebook to use `Excel_Solver` class to link Excel to the `scipy.optimize` package. \n",
    "\n",
    "The `Excel_Solver` class implements the minimization algorithms from the `scipy.optimize` package and provides an Excel interface for building the `solver` instance of the `Excel_Solver` class.\n",
    "\n",
    "The main methods of the `Excel_Solver` class are:\n",
    "+ `optimize()`: runs the optimization algorithm.\n",
    "+ `print_solutions()`: prints the solutions to an Excel sheet."
   ]
  },
  {
   "cell_type": "code",
   "execution_count": null,
   "metadata": {},
   "outputs": [],
   "source": [
    "# import packages\n",
    "from pathlib import Path\n",
    "from excelpy_optimizer import Excel_Solver\n",
    "\n",
    "# set paths\n",
    "THIS_DIR = Path(r'C:\\Users\\cjsis\\Documents\\Github\\research\\ExcelPy_Optimizer')\n",
    "DATA_DIR = THIS_DIR / 'data'"
   ]
  },
  {
   "cell_type": "markdown",
   "metadata": {},
   "source": [
    "## Create instance of `Excel_Solver` class\n",
    "\n",
    "This sets the following attributes:\n",
    "+ `xw`: link to the Excel `book`, `sheet`, and `ranges` using xlwings.\n",
    "+ `x_param`: active tuning parameters.\n",
    "+ `algo_param`: algorithm method and hyperparameters."
   ]
  },
  {
   "cell_type": "code",
   "execution_count": null,
   "metadata": {},
   "outputs": [],
   "source": [
    "# create instance of solver\n",
    "book = Path(r\"C:\\Users\\cjsis\\Documents\\Ennova\\Clients\\Oxy\\Oxy-MP-561-3\\fpxl\\fpxl_Oxy-MP-561-3.xlsm\")\n",
    "solver = Excel_Solver(\n",
    "    book=book, sheet_name=\"project\", \n",
    "    param_rg_name=\"pySolve_Param\", algo_rg_name=\"pySolve_Algo\"\n",
    ")"
   ]
  },
  {
   "cell_type": "code",
   "execution_count": 6,
   "metadata": {},
   "outputs": [
    {
     "name": "stdout",
     "output_type": "stream",
     "text": [
      "method=differential_evolution\n",
      "x=['MAsp', 'MAsp_α', 'ρAsp', 'ρAsp_α', 'n-(ma)', 'n-(hm)', 'n-(ha)', 'nT-(hm)', 'Ω_RI_malt']\n"
     ]
    }
   ],
   "source": [
    "# print attributes of solver instance\n",
    "print(f\"book={solver.xw.book.name}\")\n",
    "print(f\"x={solver.x_param['param']}\")\n",
    "print(f\"method={solver.algo_param['method']}\")"
   ]
  },
  {
   "cell_type": "markdown",
   "metadata": {},
   "source": [
    "## Run `Excel_Solver.optimize()` method\n",
    "\n",
    "Solves optimization problem according to `x_param` and `algo_param` attributes."
   ]
  },
  {
   "cell_type": "code",
   "execution_count": 7,
   "metadata": {},
   "outputs": [],
   "source": [
    "# modify algorithm parameters\n",
    "algo_method = None #[None, 'basinhopping', 'differential_evolution', 'shgo', 'dual_annealing', 'direct']\n",
    "if algo_method:\n",
    "    opt_params = solver.get_algo_params(method=algo_method)\n",
    "    opt_params['bounds'] = solver.algo_param['param']['bounds']\n",
    "    solver.set_algo_params(method=algo_method, param=opt_params)"
   ]
  },
  {
   "cell_type": "code",
   "execution_count": null,
   "metadata": {},
   "outputs": [],
   "source": [
    "# use `optimize` method to solve\n",
    "result = solver.optimize()\n",
    "print(result)"
   ]
  },
  {
   "cell_type": "markdown",
   "metadata": {},
   "source": [
    "## Print results from optimization"
   ]
  },
  {
   "cell_type": "code",
   "execution_count": null,
   "metadata": {},
   "outputs": [],
   "source": [
    "# print candidate solutions to sheet\n",
    "solver.print_solutions()"
   ]
  },
  {
   "cell_type": "code",
   "execution_count": null,
   "metadata": {},
   "outputs": [],
   "source": [
    "# write candidate solutions to sheet and evaluate results\n",
    "solver.write_solution_to_solver_range(idx=5)"
   ]
  }
 ],
 "metadata": {
  "kernelspec": {
   "display_name": "Python 3",
   "language": "python",
   "name": "python3"
  },
  "language_info": {
   "codemirror_mode": {
    "name": "ipython",
    "version": 3
   },
   "file_extension": ".py",
   "mimetype": "text/x-python",
   "name": "python",
   "nbconvert_exporter": "python",
   "pygments_lexer": "ipython3",
   "version": "3.11.7"
  }
 },
 "nbformat": 4,
 "nbformat_minor": 2
}
