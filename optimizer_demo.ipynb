{
 "cells": [
  {
   "cell_type": "markdown",
   "metadata": {},
   "source": [
    "# Demo for the `Excel_Solver` class in the `optimize.py` module\n",
    "\n",
    "The `Excel_Solver` class implements the minimization algorithms from the `scipy.optimize` package and provides an Excel interface for building the `solver` instance of the `Excel_Solver` class.\n",
    "\n",
    "The main methods of the `Excel_Solver` class are:\n",
    "+ `optimize()`: runs the optimization algorithm.\n",
    "+ `print_solutions()`: prints the solutions to an Excel sheet."
   ]
  },
  {
   "cell_type": "markdown",
   "metadata": {},
   "source": [
    "## Import class and define paths"
   ]
  },
  {
   "cell_type": "code",
   "execution_count": 1,
   "metadata": {},
   "outputs": [],
   "source": [
    "from pathlib import Path\n",
    "from optimizer import Excel_Solver\n",
    "\n",
    "# CONSTANTS\n",
    "THIS_DIR = Path(r'C:\\Users\\cjsis\\Documents\\Github\\research\\ExcelPy_Optimizer')\n",
    "DATA_DIR = THIS_DIR / 'data'"
   ]
  },
  {
   "cell_type": "code",
   "execution_count": 6,
   "metadata": {},
   "outputs": [],
   "source": [
    "# create instance of `Excel_Solver` class\n",
    "book_path = THIS_DIR / \"optimizer_demo.xlsx\"\n",
    "solver = Excel_Solver(book=book_path, sheet_name='project',\n",
    "                      param_rg_name='pySolve_Param', algo_rg_name='pySolve_Algo'\n",
    ")"
   ]
  },
  {
   "cell_type": "code",
   "execution_count": 8,
   "metadata": {},
   "outputs": [
    {
     "data": {
      "text/plain": [
       " message: Optimization terminated successfully.\n",
       " success: True\n",
       "     fun: 4.979684464207637e-30\n",
       "       x: [ 1.000e+00  1.000e+00]\n",
       "     nit: 46\n",
       "    nfev: 1413"
      ]
     },
     "execution_count": 8,
     "metadata": {},
     "output_type": "execute_result"
    }
   ],
   "source": [
    "# run solver\n",
    "result = solver.optimize()\n",
    "result"
   ]
  },
  {
   "cell_type": "code",
   "execution_count": 9,
   "metadata": {},
   "outputs": [],
   "source": [
    "# print solutions to Excel\n",
    "solver.print_solutions(sheet_name='result')"
   ]
  },
  {
   "cell_type": "code",
   "execution_count": null,
   "metadata": {},
   "outputs": [],
   "source": [
    "# save instance to file\n",
    "solver.to_json(file_path=DATA_DIR/'optimizer_demo.json')"
   ]
  }
 ],
 "metadata": {
  "kernelspec": {
   "display_name": "optimization-env",
   "language": "python",
   "name": "python3"
  },
  "language_info": {
   "codemirror_mode": {
    "name": "ipython",
    "version": 3
   },
   "file_extension": ".py",
   "mimetype": "text/x-python",
   "name": "python",
   "nbconvert_exporter": "python",
   "pygments_lexer": "ipython3",
   "version": "3.11.5"
  }
 },
 "nbformat": 4,
 "nbformat_minor": 2
}
